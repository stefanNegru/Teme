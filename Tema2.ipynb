{
 "cells": [
  {
   "cell_type": "code",
   "execution_count": 4,
   "metadata": {},
   "outputs": [],
   "source": [
    "import numpy as np"
   ]
  },
  {
   "cell_type": "code",
   "execution_count": 5,
   "metadata": {},
   "outputs": [
    {
     "name": "stdout",
     "output_type": "stream",
     "text": [
      "[0. 0. 0. 0. 0. 0. 0. 0. 0. 0.]\n"
     ]
    }
   ],
   "source": [
    "Z = np.zeros(10)\n",
    "print(Z)"
   ]
  },
  {
   "cell_type": "code",
   "execution_count": 6,
   "metadata": {},
   "outputs": [
    {
     "name": "stdout",
     "output_type": "stream",
     "text": [
      "[10 11 12 13 14 15 16 17 18 19 20 21 22 23 24 25 26 27 28 29 30 31 32 33\n",
      " 34 35 36 37 38 39 40 41 42 43 44 45 46 47 48 49 50 51 52 53 54 55 56 57\n",
      " 58 59 60 61 62 63 64 65 66 67 68 69 70 71 72 73 74 75 76 77 78 79 80 81\n",
      " 82 83 84 85 86 87 88 89 90 91 92 93 94 95 96 97 98 99]\n"
     ]
    }
   ],
   "source": [
    "Vect = np.arange(10, 100, 1)\n",
    "print(Vect)"
   ]
  },
  {
   "cell_type": "code",
   "execution_count": 7,
   "metadata": {},
   "outputs": [
    {
     "name": "stdout",
     "output_type": "stream",
     "text": [
      "[99 98 97 96 95 94 93 92 91 90 89 88 87 86 85 84 83 82 81 80 79 78 77 76\n",
      " 75 74 73 72 71 70 69 68 67 66 65 64 63 62 61 60 59 58 57 56 55 54 53 52\n",
      " 51 50 49 48 47 46 45 44 43 42 41 40 39 38 37 36 35 34 33 32 31 30 29 28\n",
      " 27 26 25 24 23 22 21 20 19 18 17 16 15 14 13 12 11 10]\n"
     ]
    }
   ],
   "source": [
    "Vect1 = np.flip(Vect)\n",
    "print(Vect1)"
   ]
  },
  {
   "cell_type": "code",
   "execution_count": 8,
   "metadata": {},
   "outputs": [
    {
     "name": "stdout",
     "output_type": "stream",
     "text": [
      "[[10 11 12 13 14 15 16 17 18 19 20 21 22 23 24 25 26 27 28 29 30 31 32 33\n",
      "  34 35 36 37 38 39]\n",
      " [40 41 42 43 44 45 46 47 48 49 50 51 52 53 54 55 56 57 58 59 60 61 62 63\n",
      "  64 65 66 67 68 69]\n",
      " [70 71 72 73 74 75 76 77 78 79 80 81 82 83 84 85 86 87 88 89 90 91 92 93\n",
      "  94 95 96 97 98 99]]\n"
     ]
    }
   ],
   "source": [
    "Vect_reshape = np.reshape(Vect, (3, 30))\n",
    "print(Vect_reshape)"
   ]
  },
  {
   "cell_type": "code",
   "execution_count": 9,
   "metadata": {},
   "outputs": [
    {
     "name": "stdout",
     "output_type": "stream",
     "text": [
      "[0 1 2 5 6]  \n"
     ]
    }
   ],
   "source": [
    "vect = [1, 2, 9, 0, 0, 1, 4, 0]\n",
    "for i in np.nonzero(vect):\n",
    "    print(i, ' ')"
   ]
  },
  {
   "cell_type": "code",
   "execution_count": 10,
   "metadata": {},
   "outputs": [
    {
     "name": "stdout",
     "output_type": "stream",
     "text": [
      "[[1. 0. 0.]\n",
      " [0. 1. 0.]\n",
      " [0. 0. 1.]]\n"
     ]
    }
   ],
   "source": [
    "I = np.identity(3)\n",
    "print(I)"
   ]
  },
  {
   "cell_type": "code",
   "execution_count": 11,
   "metadata": {},
   "outputs": [
    {
     "name": "stdout",
     "output_type": "stream",
     "text": [
      "0.0016264549619186353\n"
     ]
    }
   ],
   "source": [
    "R = np.random.uniform(-1, 1, 50)\n",
    "print(np.average(R))"
   ]
  },
  {
   "cell_type": "code",
   "execution_count": 12,
   "metadata": {},
   "outputs": [
    {
     "name": "stdout",
     "output_type": "stream",
     "text": [
      "[[0 0 0 0 0]\n",
      " [1 0 0 0 0]\n",
      " [0 2 0 0 0]\n",
      " [0 0 3 0 0]\n",
      " [0 0 0 4 0]]\n"
     ]
    }
   ],
   "source": [
    "Diag = np.diag([1, 2, 3, 4], -1)\n",
    "print(Diag)"
   ]
  },
  {
   "cell_type": "code",
   "execution_count": 13,
   "metadata": {},
   "outputs": [
    {
     "name": "stdout",
     "output_type": "stream",
     "text": [
      "[[0.56791392 0.58378839 0.61600217 0.63048318]\n",
      " [0.66008316 0.6343684  0.94353756 0.78348603]\n",
      " [0.59589728 0.58699614 0.65257331 0.62775212]\n",
      " [1.11141788 1.06508186 1.51455995 1.27751416]\n",
      " [0.20034754 0.17764402 0.32941387 0.23792739]]\n"
     ]
    }
   ],
   "source": [
    "matrix1 = np.random.rand(5, 3)\n",
    "matrix2 = np.random.rand(3, 4)\n",
    "P = np.dot(matrix1, matrix2)\n",
    "print(P)"
   ]
  },
  {
   "cell_type": "code",
   "execution_count": 14,
   "metadata": {},
   "outputs": [
    {
     "name": "stdout",
     "output_type": "stream",
     "text": [
      "[[0. 0. 0. 0.]\n",
      " [0. 0. 0. 0.]\n",
      " [0. 0. 0. 0.]\n",
      " [1. 1. 1. 1.]\n",
      " [0. 0. 0. 0.]]\n"
     ]
    }
   ],
   "source": [
    "print(np.floor(P))"
   ]
  },
  {
   "cell_type": "code",
   "execution_count": 15,
   "metadata": {},
   "outputs": [
    {
     "name": "stdout",
     "output_type": "stream",
     "text": [
      "[0.01316727 0.01583425 0.0390085  0.08575814 0.11796602 0.14505847\n",
      " 0.15121067 0.22383258 0.37890241 0.39072175 0.43216915 0.43290631\n",
      " 0.44151616 0.4784583  0.47896206 0.5010657  0.57193514 0.60567036\n",
      " 0.6736487  0.8084022  0.83946336 0.86306539 0.88471416 0.88796166\n",
      " 0.9657377 ]\n"
     ]
    }
   ],
   "source": [
    "Vect3 = np.random.rand(25)\n",
    "print(np.sort(Vect3))"
   ]
  },
  {
   "cell_type": "code",
   "execution_count": 16,
   "metadata": {},
   "outputs": [
    {
     "name": "stdout",
     "output_type": "stream",
     "text": [
      "[[0.18910002 0.70039337]\n",
      " [0.36286059 0.97949711]\n",
      " [0.8788553  0.27870966]\n",
      " [0.23431058 0.88662344]\n",
      " [0.02527592 0.23138565]\n",
      " [0.82137727 0.34755456]\n",
      " [0.56187606 0.53737588]]\n",
      "rho =  0.7254720464212396 phi =  0.26370360416102023\n",
      "rho =  1.0445488952273867 phi =  0.3547809620016946\n",
      "rho =  0.9219900857375186 phi =  1.2637007438309977\n",
      "rho =  0.9170619200575417 phi =  0.25836625238971284\n",
      "rho =  0.23276208764945402 phi =  0.1088057674793495\n",
      "rho =  0.8918827272774088 phi =  1.1705052861504583\n",
      "rho =  0.7774815390222733 phi =  0.8076825201595689\n"
     ]
    }
   ],
   "source": [
    "Cart = np.random.rand(7, 2)\n",
    "print(Cart)\n",
    "for i in np.arange(7):\n",
    "    rho = np.sqrt(Cart[i, 0] ** 2 + Cart[i, 1] ** 2)\n",
    "    phi = np.arctan2(Cart[i, 0], Cart[i, 1])\n",
    "    print(\"rho = \", rho, \"phi = \", phi)"
   ]
  },
  {
   "cell_type": "code",
   "execution_count": 18,
   "metadata": {},
   "outputs": [
    {
     "name": "stdout",
     "output_type": "stream",
     "text": [
      "0.9397321135488099\n",
      "0.9341688685017173\n"
     ]
    }
   ],
   "source": [
    "Matrix10 = np.random.rand(10, 10)\n",
    "nr = np.random.rand()\n",
    "Vect100 = np.reshape(Matrix10, 100, 1)\n",
    "#print(Matrix10)\n",
    "print(nr)\n",
    "m = abs(Vect100[0] - nr)\n",
    "for i in np.arange(100):\n",
    "    if m>abs(Vect100[i] - nr):\n",
    "        m = abs(Vect100[i] - nr)\n",
    "        n=Vect100[i]\n",
    "print(n)"
   ]
  },
  {
   "cell_type": "code",
   "execution_count": null,
   "metadata": {},
   "outputs": [],
   "source": []
  }
 ],
 "metadata": {
  "kernelspec": {
   "display_name": "Python 3",
   "language": "python",
   "name": "python3"
  },
  "language_info": {
   "codemirror_mode": {
    "name": "ipython",
    "version": 3
   },
   "file_extension": ".py",
   "mimetype": "text/x-python",
   "name": "python",
   "nbconvert_exporter": "python",
   "pygments_lexer": "ipython3",
   "version": "3.7.4"
  }
 },
 "nbformat": 4,
 "nbformat_minor": 2
}
